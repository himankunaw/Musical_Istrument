{
  "nbformat": 4,
  "nbformat_minor": 0,
  "metadata": {
    "colab": {
      "name": "feature_label.ipynb",
      "provenance": [],
      "collapsed_sections": []
    },
    "kernelspec": {
      "name": "python3",
      "display_name": "Python 3"
    },
    "language_info": {
      "name": "python"
    },
    "accelerator": "GPU"
  },
  "cells": [
    {
      "cell_type": "code",
      "metadata": {
        "colab": {
          "base_uri": "https://localhost:8080/"
        },
        "id": "O0NmiUb9bmbn",
        "outputId": "aa49f3f2-fa34-4bdd-8324-92607528dd6d"
      },
      "source": [
        "!pip install essentia"
      ],
      "execution_count": null,
      "outputs": [
        {
          "output_type": "stream",
          "text": [
            "Requirement already satisfied: essentia in /usr/local/lib/python3.7/dist-packages (2.1b6.dev374)\n",
            "Requirement already satisfied: pyyaml in /usr/local/lib/python3.7/dist-packages (from essentia) (3.13)\n",
            "Requirement already satisfied: numpy>=1.8.2 in /usr/local/lib/python3.7/dist-packages (from essentia) (1.19.5)\n",
            "Requirement already satisfied: six in /usr/local/lib/python3.7/dist-packages (from essentia) (1.15.0)\n"
          ],
          "name": "stdout"
        }
      ]
    },
    {
      "cell_type": "code",
      "metadata": {
        "colab": {
          "base_uri": "https://localhost:8080/"
        },
        "id": "6L9HKmorpt4V",
        "outputId": "c37d18e4-b362-451c-b65e-a43d649d052c"
      },
      "source": [
        "from google.colab import drive\n",
        "drive.mount('/content/drive')"
      ],
      "execution_count": null,
      "outputs": [
        {
          "output_type": "stream",
          "text": [
            "Drive already mounted at /content/drive; to attempt to forcibly remount, call drive.mount(\"/content/drive\", force_remount=True).\n"
          ],
          "name": "stdout"
        }
      ]
    },
    {
      "cell_type": "code",
      "metadata": {
        "id": "VjzSJF17aEYX"
      },
      "source": [
        "import numpy as np \n",
        "from essentia.standard import *\n",
        "import matplotlib.pyplot as plt \n",
        "from scipy.io.wavfile import read, write\n",
        "import os"
      ],
      "execution_count": null,
      "outputs": []
    },
    {
      "cell_type": "code",
      "metadata": {
        "id": "o1D_BFIeablm"
      },
      "source": [
        "trainpath = '/content/drive/MyDrive/DataScienceProjects/Musical/Data/train/'\n",
        "testpath = '/content/drive/MyDrive/DataScience/Projects/Musical/Data/test/'\n",
        "instruments = ['flu', 'gac', 'gel', 'org', 'pia', 'sax', 'vio', 'voi']"
      ],
      "execution_count": null,
      "outputs": []
    },
    {
      "cell_type": "code",
      "metadata": {
        "id": "clF9ELAqavP7"
      },
      "source": [
        "def extract_features(filepath, mel_order = 15, lpc_order = 15, feature = 'both', plot_mel=False):\n",
        "    # we start by instantiating the audio loader:\n",
        "    loader = MonoLoader(filename=filepath)\n",
        "    # and then we actually perform the loading:\n",
        "    audio = loader()\n",
        "\n",
        "    frameSize = 1024\n",
        "    hopSize = 512\n",
        "    spectrum = Spectrum(size = frameSize) \n",
        "    mfcc = MFCC(numberCoefficients = mel_order, inputSize = frameSize/2 + 1)\n",
        "    lpc = LPC(order = lpc_order, type='warped')\n",
        "    (fs,audio) = read(filepath)\n",
        "    audio = essentia.array(audio)\n",
        "    w = Windowing(type = 'hann')\n",
        "    logNorm = UnaryOperator(type='log')\n",
        "    mfccs = []\n",
        "    melbands = []\n",
        "    melbands_log = []\n",
        "    wlpcs = []\n",
        "   \n",
        "\n",
        "    for frame in FrameGenerator(audio, frameSize=frameSize, hopSize=hopSize, startFromZero=True):\n",
        "        # frame = essentia.array(audio[fstart:fstart+frameSize])\n",
        "        mfcc_bands, mfcc_coeffs = mfcc(spectrum(w(frame)))\n",
        "        mfccs.append(mfcc_coeffs)\n",
        "        melbands.append(mfcc_bands)\n",
        "        melbands_log.append(logNorm(mfcc_bands))\n",
        "        wlpc = lpc(frame)[0]\n",
        "        #the first LPC coefficient is always 1\n",
        "        wlpcs.append(wlpc[1:])\n",
        "\n",
        "    if plot_mel:\n",
        "    \tmelbands_log = essentia.array(melbands_log).T\n",
        "    \tplot_mel_spectrum(melbands_log)\n",
        "    \t\n",
        "\n",
        "    #do we want to use warped lpcs, mfccs or both?\n",
        "    if feature is 'wlpc':\n",
        "    \t#first column - warped LPCs 0- select median over all frames\n",
        "    \tfeatures = normalize_features(np.median(wlpcs,axis = 0))\n",
        "    elif feature is 'mfcc':\n",
        "    \t#second column - mfccs - select median over all frames\n",
        "    \tfeatures = normalize_features(np.median(mfccs, axis = 0))\n",
        "    else:\n",
        "      features = np.zeros([lpc_order+mel_order])\n",
        "      features[:lpc_order] = normalize_features(np.median(wlpcs,axis = 0))\n",
        "      features[lpc_order:] = normalize_features(np.median(mfccs, axis = 0))\n",
        "\n",
        "     \n",
        "\n",
        "    return features"
      ],
      "execution_count": null,
      "outputs": []
    },
    {
      "cell_type": "code",
      "metadata": {
        "id": "BZcgAHRjbOWi"
      },
      "source": [
        "def plot_mel_spectrum(melbands_log):\n",
        "    plt.imshow(melbands_log[:,:], aspect = 'auto', origin='lower', interpolation='none')\n",
        "    plt.title(\"Log-normalized mel band spectral energies in frames\")\n",
        "    plt.ylabel(\"Mel band #\")\n",
        "    plt.xlabel(\"Frame #\")\n",
        "    plt.show()"
      ],
      "execution_count": null,
      "outputs": []
    },
    {
      "cell_type": "code",
      "metadata": {
        "id": "QD2PzCambqPX"
      },
      "source": [
        "def normalize_features(features):\n",
        "\tfeatures = (features - np.mean(features))/np.std(features)\n",
        "\treturn features"
      ],
      "execution_count": null,
      "outputs": []
    },
    {
      "cell_type": "code",
      "metadata": {
        "id": "ghppMb-dbtIt"
      },
      "source": [
        "def write_to_csv(path):\n",
        "\t#loop through all instruments\n",
        "\tinstrument_features = dict()\n",
        "\tnFiles = 0\n",
        "\tlpc_order = 15\n",
        "\tmel_order = 15\n",
        "\n",
        "\tfor i in instruments:\n",
        "\t\tprint('Getting features for ' + i)\n",
        "\t\tinstrument_features[i] = []\n",
        "\t\tfor r,d,f in os.walk(os.path.join(path,i)):\n",
        "\t\t\tfor file in f:\n",
        "\t\t\t\tinstrument_features[i].append(extract_features(os.path.join(r,file), mel_order, lpc_order))\n",
        "\t\t\t\tnFiles += 1\n",
        "\t\t\n",
        "\n",
        "\tprint('...........................................')\n",
        "\t#number of rows - number of examples, number of columns = nfeatures + label\n",
        "\t#last column is label\n",
        "\tfeature_array = np.zeros([nFiles,lpc_order+mel_order+1])\n",
        "\tn = 0\n",
        "\n",
        "\tfor ins, features in instrument_features.iteritems():\n",
        "\t\tprint('Writing features for ' + ins)\n",
        "\t\tfor feature in features:\n",
        "\t\t\tfeature_array[n,:-1] = feature\n",
        "\t\t\tfeature_array[n,-1] = instruments.index(ins)\n",
        "\t\t\tn += 1\n",
        "\n",
        "\tsaveTo = path + 'data_with_labels.csv'\n",
        "\tnp.savetxt(saveTo, feature_array, delimiter=\",\") \n"
      ],
      "execution_count": null,
      "outputs": []
    },
    {
      "cell_type": "code",
      "metadata": {
        "id": "PMfC8oNjbx2d"
      },
      "source": [
        "def main():\n",
        "\twrite_to_csv(trainpath)\n",
        "\twrite_to_csv(testpath)"
      ],
      "execution_count": null,
      "outputs": []
    },
    {
      "cell_type": "code",
      "metadata": {
        "id": "OeFqgkhnwngz"
      },
      "source": [
        "if __name__ == '__main__':\n",
        "  main()"
      ],
      "execution_count": null,
      "outputs": []
    }
  ]
}