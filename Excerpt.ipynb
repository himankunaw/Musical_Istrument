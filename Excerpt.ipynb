{
  "nbformat": 4,
  "nbformat_minor": 0,
  "metadata": {
    "colab": {
      "name": "Excerpt.ipynb",
      "provenance": [],
      "collapsed_sections": []
    },
    "kernelspec": {
      "name": "python3",
      "display_name": "Python 3"
    },
    "language_info": {
      "name": "python"
    }
  },
  "cells": [
    {
      "cell_type": "code",
      "metadata": {
        "colab": {
          "base_uri": "https://localhost:8080/"
        },
        "id": "MKa5bjI7U7Yl",
        "outputId": "6805850e-7d96-433f-d3f9-71e8f00ef25a"
      },
      "source": [
        "from google.colab import drive\n",
        "drive.mount('/content/drive')"
      ],
      "execution_count": null,
      "outputs": [
        {
          "output_type": "stream",
          "text": [
            "Drive already mounted at /content/drive; to attempt to forcibly remount, call drive.mount(\"/content/drive\", force_remount=True).\n"
          ],
          "name": "stdout"
        }
      ]
    },
    {
      "cell_type": "code",
      "metadata": {
        "id": "v3DVpRruVi9u"
      },
      "source": [
        "import numpy as np \n",
        "import os\n",
        "from scipy.io.wavfile import read,write\n",
        "import random\n",
        "from shutil import copyfile"
      ],
      "execution_count": null,
      "outputs": []
    },
    {
      "cell_type": "code",
      "metadata": {
        "id": "yEHGQTSEVkVo"
      },
      "source": [
        "savepath = '/content/drive/MyDrive/DataScienceProjects/Musical/Data'\n",
        "trainpath = '/content/drive/MyDrive/DataScienceProjects/Musical/Data/train'\n",
        "testpath = '/content/drive/MyDrive/DataScienceProjects/Musical/Data/test'\n",
        "instruments = ['flu', 'gac', 'gel', 'org', 'pia', 'sax', 'vio', 'voi']\n",
        "noinst = 8 "
      ],
      "execution_count": null,
      "outputs": []
    },
    {
      "cell_type": "code",
      "metadata": {
        "id": "os9ugHZrW6bD"
      },
      "source": [
        "def break_into_parts(readpath,writepath,ins,id):\n",
        "\t(fs,audio) = read(readpath)\n",
        "\tt = np.arange(0,len(audio)-1)/fs\n",
        "\twinLen = 2 #length of each excerpt in seconds\n",
        "\tnFiles = np.floor(t[-1]/winLen)\n",
        "\n",
        "\tstart = 0\n",
        "\tfor n in range(int(nFiles)):\n",
        "\t\texcerpt = audio[start:start+(winLen*fs)]\n",
        "\t\twrite(os.path.join(writepath,ins+str(id)+\".wav\"),fs,excerpt)\n",
        "\t\tstart = start + winLen*fs \n",
        "\t\tid += 1\n",
        "\n",
        "\treturn id"
      ],
      "execution_count": null,
      "outputs": []
    },
    {
      "cell_type": "code",
      "metadata": {
        "id": "Fg6OkzlwXRLx"
      },
      "source": [
        "def split_into_train_and_test(ins_path, ins, numFiles=600):\n",
        "\t#split 80:20\n",
        "\tnTrain = int(numFiles * 0.80)\n",
        "\ttrp = os.path.join(trainpath,ins)\n",
        "\ttsp = os.path.join(testpath,ins)\n",
        "\n",
        "\tfor r,d,files in os.walk(ins_path):\n",
        "\t\trandom.shuffle(files)\n",
        "\t\ttrain = files[:nTrain]\n",
        "\t\ttest = files[nTrain:]\n",
        "\t\tfor ft in train:\n",
        "\t\t\tcopyfile(os.path.join(ins_path,ft),os.path.join(trp,ft))\n",
        "\t\tfor ft in test:\n",
        "\t\t\tcopyfile(os.path.join(ins_path,ft),os.path.join(tsp,ft))\n"
      ],
      "execution_count": null,
      "outputs": []
    },
    {
      "cell_type": "code",
      "metadata": {
        "id": "AGyJfDJXXqQD"
      },
      "source": [
        "def main():\n",
        "\tsongs = []\n",
        "\tif not os.path.exists(trainpath):\n",
        "\t\tos.mkdir(trainpath)\n",
        "\t\tos.mkdir(testpath)\n",
        "\n",
        "\t#get individual subdirectory for each song\n",
        "\t# r - root, d - directories, f - files\n",
        "\tfor r,d,f in os.walk(savepath):\n",
        "\t\tfor song in d:\n",
        "\t\t\tif(song[0].isdigit()):\n",
        "\t\t\t\tsongs.append(os.path.join(r,song))\n",
        "\n",
        "\t#go through all the files in each song directory and get the wav files only\n",
        "\tsound_files = []\n",
        "\tfor ins in instruments:\n",
        "\t\tid = 0\n",
        "\t\tfor song in songs:\n",
        "\t\t\t# print(song)\n",
        "\t\t\tsongname = song[song.rfind('/')+1:]\n",
        "\t\t\t# print(songname)\n",
        "\t\t\tfor r,d,files in os.walk(song):\n",
        "\t\t\t\tfor file in files:\n",
        "\t\t\t\t\tif(file.endswith(\".wav\") and ins in file):\n",
        "\t\t\t\t\t\treadPath = os.path.join(song,file)\n",
        "\t\t\t\t\t\twritePath = os.path.join(savepath,ins)\n",
        "\t\t\t\t\t\tif not os.path.exists(writePath):\n",
        "\t\t\t\t\t\t\tos.mkdir(writePath)\n",
        "\t\t\t\t\t\tid = break_into_parts(readPath,writePath,ins,id)\n",
        "\t\t\t\t\t\tprint('Saved ' + file)\n",
        "\n",
        "\t\t\t\t\t\n",
        "\t#split excerpts into train and test files\n",
        "\tfor ins in instruments:\n",
        "\t\ttrpath = os.path.join(trainpath,ins)\n",
        "\t\ttspath = os.path.join(testpath,ins)\n",
        "\t\tif not os.path.exists(trpath):\n",
        "\t\t\tos.mkdir(trpath)\n",
        "\t\t\tos.mkdir(tspath)\n",
        "\t\tsplit_into_train_and_test(os.path.join(savepath,ins),ins)"
      ],
      "execution_count": null,
      "outputs": []
    },
    {
      "cell_type": "code",
      "metadata": {
        "id": "alvORb_YXx87"
      },
      "source": [
        "if __name__ == '__main__':\n",
        "    main()"
      ],
      "execution_count": null,
      "outputs": []
    }
  ]
}